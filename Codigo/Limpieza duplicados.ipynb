{
 "cells": [
  {
   "cell_type": "code",
   "execution_count": null,
   "id": "eb3e732a",
   "metadata": {},
   "outputs": [],
   "source": [
    "import pandas as pd\n",
    "import numpy as np"
   ]
  },
  {
   "cell_type": "code",
   "execution_count": null,
   "id": "d97294f7",
   "metadata": {},
   "outputs": [],
   "source": [
    "armas= pd.read_csv(\"armas season.csv\")"
   ]
  },
  {
   "cell_type": "code",
   "execution_count": null,
   "id": "f016ae6a",
   "metadata": {},
   "outputs": [],
   "source": [
    "armas.head()"
   ]
  },
  {
   "cell_type": "code",
   "execution_count": null,
   "id": "80068e6d",
   "metadata": {},
   "outputs": [],
   "source": [
    "armas.shape"
   ]
  },
  {
   "cell_type": "code",
   "execution_count": null,
   "id": "b885f145",
   "metadata": {},
   "outputs": [],
   "source": [
    "armas = armas.drop_duplicates()"
   ]
  },
  {
   "cell_type": "code",
   "execution_count": null,
   "id": "2d80ba70",
   "metadata": {},
   "outputs": [],
   "source": [
    "armas.head()"
   ]
  },
  {
   "cell_type": "code",
   "execution_count": null,
   "id": "987598e3",
   "metadata": {},
   "outputs": [],
   "source": [
    "armas.shape"
   ]
  },
  {
   "cell_type": "code",
   "execution_count": null,
   "id": "5881a8fc",
   "metadata": {},
   "outputs": [],
   "source": [
    "titan = pd.read_csv(\"titan season.csv\")"
   ]
  },
  {
   "cell_type": "code",
   "execution_count": null,
   "id": "fd4fef0e",
   "metadata": {},
   "outputs": [],
   "source": [
    "titan.head()"
   ]
  },
  {
   "cell_type": "code",
   "execution_count": null,
   "id": "f0f2391e",
   "metadata": {},
   "outputs": [],
   "source": [
    "titan.shape"
   ]
  },
  {
   "cell_type": "code",
   "execution_count": null,
   "id": "532f2b28",
   "metadata": {},
   "outputs": [],
   "source": [
    "titan.duplicated()"
   ]
  },
  {
   "cell_type": "code",
   "execution_count": null,
   "id": "477046eb",
   "metadata": {},
   "outputs": [],
   "source": [
    "titan2 = titan.drop_duplicates()"
   ]
  },
  {
   "cell_type": "code",
   "execution_count": null,
   "id": "317b39ad",
   "metadata": {},
   "outputs": [],
   "source": [
    "titan2.shape"
   ]
  },
  {
   "cell_type": "code",
   "execution_count": null,
   "id": "8978c700",
   "metadata": {},
   "outputs": [],
   "source": [
    "titan2.head()"
   ]
  },
  {
   "cell_type": "code",
   "execution_count": null,
   "id": "4bb31108",
   "metadata": {},
   "outputs": [],
   "source": [
    "warlock = pd.read_csv(\"warlock season.csv\")"
   ]
  },
  {
   "cell_type": "code",
   "execution_count": null,
   "id": "f0b7130d",
   "metadata": {},
   "outputs": [],
   "source": [
    "warlock.head()"
   ]
  },
  {
   "cell_type": "code",
   "execution_count": null,
   "id": "ebe2dc3b",
   "metadata": {},
   "outputs": [],
   "source": [
    "warlock.shape"
   ]
  },
  {
   "cell_type": "code",
   "execution_count": null,
   "id": "4d883f04",
   "metadata": {},
   "outputs": [],
   "source": [
    "warlock2 = warlock.drop_duplicates()"
   ]
  },
  {
   "cell_type": "code",
   "execution_count": null,
   "id": "e11c5c3b",
   "metadata": {},
   "outputs": [],
   "source": [
    "warlock2.shape"
   ]
  },
  {
   "cell_type": "code",
   "execution_count": null,
   "id": "faea2720",
   "metadata": {},
   "outputs": [],
   "source": [
    "warlock2.head()"
   ]
  },
  {
   "cell_type": "code",
   "execution_count": null,
   "id": "a494ea3c",
   "metadata": {},
   "outputs": [],
   "source": [
    "hunter = pd.read_csv(\"hunter season.csv\")"
   ]
  },
  {
   "cell_type": "code",
   "execution_count": null,
   "id": "7b1cd71e",
   "metadata": {},
   "outputs": [],
   "source": [
    "hunter.head()"
   ]
  },
  {
   "cell_type": "code",
   "execution_count": null,
   "id": "dfdb5b7c",
   "metadata": {},
   "outputs": [],
   "source": [
    "hunter.shape"
   ]
  },
  {
   "cell_type": "code",
   "execution_count": null,
   "id": "eb881d2d",
   "metadata": {},
   "outputs": [],
   "source": [
    "hunter2 = hunter.drop_duplicates()"
   ]
  },
  {
   "cell_type": "code",
   "execution_count": null,
   "id": "180ddee0",
   "metadata": {},
   "outputs": [],
   "source": [
    "hunter2.head()"
   ]
  },
  {
   "cell_type": "code",
   "execution_count": null,
   "id": "08cef404",
   "metadata": {},
   "outputs": [],
   "source": [
    "hunter2.shape"
   ]
  },
  {
   "cell_type": "code",
   "execution_count": null,
   "id": "042d4cd6",
   "metadata": {},
   "outputs": [],
   "source": [
    "warlock2.to_csv('warlock.clean.csv', index=False)"
   ]
  },
  {
   "cell_type": "code",
   "execution_count": null,
   "id": "58da4f11",
   "metadata": {},
   "outputs": [],
   "source": [
    "titan2.to_csv('titan.clean.csv', index=False)"
   ]
  },
  {
   "cell_type": "code",
   "execution_count": null,
   "id": "0b53f96f",
   "metadata": {},
   "outputs": [],
   "source": [
    "hunter2.to_csv('hunter.clean.csv', index=False)"
   ]
  },
  {
   "cell_type": "code",
   "execution_count": null,
   "id": "7e485561",
   "metadata": {},
   "outputs": [],
   "source": []
  }
 ],
 "metadata": {
  "kernelspec": {
   "display_name": "Python 3 (ipykernel)",
   "language": "python",
   "name": "python3"
  },
  "language_info": {
   "codemirror_mode": {
    "name": "ipython",
    "version": 3
   },
   "file_extension": ".py",
   "mimetype": "text/x-python",
   "name": "python",
   "nbconvert_exporter": "python",
   "pygments_lexer": "ipython3",
   "version": "3.9.12"
  }
 },
 "nbformat": 4,
 "nbformat_minor": 5
}
